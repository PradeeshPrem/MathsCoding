{
 "cells": [
  {
   "cell_type": "markdown",
   "id": "7ea22b8f-617b-462a-856b-6d86904d6eaa",
   "metadata": {},
   "source": [
    "## TASK: Convert the binary number ABCDEFGH into decimal.\n",
    "\n",
    "COMMENT: We suppose that a binary number of up to 8 digits is given. Each digit has the value of 0 or 1. The \"H\" digit is the \"ones\" digit, or \"least significant\" digit.\n",
    "\n",
    "Examples:\n",
    "\n",
    "        ABCDEFGH   Simpler    Decimal\n",
    "\n",
    "        00000001         1          1 = 1\n",
    "        00000011        11          3 = 2 + 1\n",
    "        00010111     10111         23 = 16 + 4 + 2 + 1\n",
    "        10010000  10010000        144 = 128 + 16"
   ]
  },
  {
   "cell_type": "code",
   "execution_count": 28,
   "id": "4b937c6f-287d-461c-aed3-58e97d3d3832",
   "metadata": {},
   "outputs": [
    {
     "name": "stdin",
     "output_type": "stream",
     "text": [
      "Enter 8 bit Binary code : 00000010\n"
     ]
    }
   ],
   "source": [
    "# take input from the user\n",
    "b = input('Enter 8 bit Binary code :')"
   ]
  },
  {
   "cell_type": "code",
   "execution_count": 54,
   "id": "f9d877d3-6d9b-4fbf-a317-52f06b19f240",
   "metadata": {},
   "outputs": [],
   "source": [
    "def decimal(b):\n",
    "    r =0\n",
    "    for i in range(len(b)):\n",
    "        print(int(b[i])*2**(len(b)-i-1))\n",
    "        r += int(b[i])*2**(len(b)-i-1)\n",
    "    \n",
    "    return r\n",
    "    \n"
   ]
  },
  {
   "cell_type": "code",
   "execution_count": 55,
   "id": "f13ecfda-e9ec-467e-8ed0-af4814a8f198",
   "metadata": {},
   "outputs": [
    {
     "name": "stdout",
     "output_type": "stream",
     "text": [
      "0\n",
      "0\n",
      "0\n",
      "0\n",
      "0\n",
      "0\n",
      "2\n",
      "0\n"
     ]
    },
    {
     "data": {
      "text/plain": [
       "2"
      ]
     },
     "execution_count": 55,
     "metadata": {},
     "output_type": "execute_result"
    }
   ],
   "source": [
    "decimal(b)"
   ]
  },
  {
   "cell_type": "code",
   "execution_count": 56,
   "id": "47576bcb-3fc7-4fe5-9700-a2b7348cdc20",
   "metadata": {},
   "outputs": [
    {
     "name": "stdout",
     "output_type": "stream",
     "text": [
      "0\n",
      "0\n",
      "0\n",
      "16\n",
      "8\n",
      "0\n",
      "0\n",
      "1\n"
     ]
    },
    {
     "data": {
      "text/plain": [
       "25"
      ]
     },
     "execution_count": 56,
     "metadata": {},
     "output_type": "execute_result"
    }
   ],
   "source": [
    "decimal('00011001')"
   ]
  },
  {
   "cell_type": "code",
   "execution_count": null,
   "id": "64eb8424-bbf0-4987-b4fa-ccb3938af655",
   "metadata": {},
   "outputs": [],
   "source": []
  },
  {
   "cell_type": "code",
   "execution_count": null,
   "id": "3b54282b-1b01-4107-8ca2-a9650fa2a9a4",
   "metadata": {},
   "outputs": [],
   "source": []
  }
 ],
 "metadata": {
  "kernelspec": {
   "display_name": "Python 3 (ipykernel)",
   "language": "python",
   "name": "python3"
  },
  "language_info": {
   "codemirror_mode": {
    "name": "ipython",
    "version": 3
   },
   "file_extension": ".py",
   "mimetype": "text/x-python",
   "name": "python",
   "nbconvert_exporter": "python",
   "pygments_lexer": "ipython3",
   "version": "3.9.12"
  }
 },
 "nbformat": 4,
 "nbformat_minor": 5
}
