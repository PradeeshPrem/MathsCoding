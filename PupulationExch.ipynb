{
 "cells": [
  {
   "cell_type": "markdown",
   "id": "4ec17ef5-84ae-4208-9964-e53bb4636c94",
   "metadata": {},
   "source": [
    "## TASK: Use a simple model of population exchange between California and the rest of the US.\n",
    "\n",
    "COMMENT: Suppose that, every year, 30% of the population of California leaves the state, and 10% of the population of the rest of the US moves to California. Is this process chaotic, oscillatory, or does it have a simple tendency?\n",
    "\n",
    "We will suppose that, in 1960, there were 16 million people living in California, and 164 million Americans living outside of California. If we follow the model, then\n",
    "\n",
    "        1961 CA pop = 1960 CA pop - 0.3 1960 CA pop + 0.1 1960 US pop\n",
    "        1961 US pop = 1960 US pop + 0.3 1960 CA pop - 0.1 1960 US pop\n",
    "       \n",
    "Compute the CA and US populations from 1961 through 1980, using this model. (In our simple model, we are ignoring births, deaths, and immigration, and just concentrating on where the 180 million people choose to live.)\n"
   ]
  },
  {
   "cell_type": "code",
   "execution_count": 9,
   "id": "e75dde5e-4df5-46d6-bfb4-e20d5cc27933",
   "metadata": {},
   "outputs": [],
   "source": [
    "import matplotlib.pyplot as plt"
   ]
  },
  {
   "cell_type": "code",
   "execution_count": 11,
   "id": "2080ea3f-2c17-46dc-b26a-b53f2d6c654d",
   "metadata": {},
   "outputs": [
    {
     "name": "stdout",
     "output_type": "stream",
     "text": [
      "1961  CA Population:  27600000.0    1961  US Pupulation:  152400000.0\n",
      "1962  CA Population:  34560000.0    1962  US Pupulation:  145440000.0\n",
      "1963  CA Population:  38736000.0    1963  US Pupulation:  141264000.0\n",
      "1964  CA Population:  41241600.0    1964  US Pupulation:  138758400.0\n",
      "1965  CA Population:  42744960.0    1965  US Pupulation:  137255040.0\n",
      "1966  CA Population:  43646976.0    1966  US Pupulation:  136353024.0\n",
      "1967  CA Population:  44188185.6    1967  US Pupulation:  135811814.4\n",
      "1968  CA Population:  44512911.36    1968  US Pupulation:  135487088.64000002\n",
      "1969  CA Population:  44707746.816    1969  US Pupulation:  135292253.18400002\n",
      "1970  CA Population:  44824648.089600004    1970  US Pupulation:  135175351.91040003\n",
      "1971  CA Population:  44894788.853760004    1971  US Pupulation:  135105211.14624003\n",
      "1972  CA Population:  44936873.31225601    1972  US Pupulation:  135063126.68774402\n",
      "1973  CA Population:  44962123.98735361    1973  US Pupulation:  135037876.01264644\n",
      "1974  CA Population:  44977274.39241217    1974  US Pupulation:  135022725.60758787\n",
      "1975  CA Population:  44986364.63544731    1975  US Pupulation:  135013635.36455274\n",
      "1976  CA Population:  44991818.78126839    1976  US Pupulation:  135008181.21873164\n",
      "1977  CA Population:  44995091.26876104    1977  US Pupulation:  135004908.731239\n",
      "1978  CA Population:  44997054.76125663    1978  US Pupulation:  135002945.23874342\n",
      "1979  CA Population:  44998232.85675398    1979  US Pupulation:  135001767.14324605\n",
      "1980  CA Population:  44998939.714052394    1980  US Pupulation:  135001060.28594765\n"
     ]
    }
   ],
   "source": [
    "ca = 16000000\n",
    "us = 164000000\n",
    "caN = 0\n",
    "usN = 0\n",
    "lca = [ca]\n",
    "lus = [us]\n",
    "for i in range(1961,1981,1):\n",
    "    caN = ca - 0.3*ca + 0.1*us\n",
    "    usN = us + 0.3*ca - 0.1*us\n",
    "    print(i,' CA Population: ',caN, '  ' , i,' US Pupulation: ', usN)\n",
    "    lca.append(ca)\n",
    "    lus.append(us)\n",
    "    ca = caN\n",
    "    us = usN\n",
    "    "
   ]
  },
  {
   "cell_type": "code",
   "execution_count": 26,
   "id": "48f6701e-34bf-4aa1-8f53-02c1f0063ce6",
   "metadata": {},
   "outputs": [
    {
     "data": {
      "text/plain": [
       "<matplotlib.collections.PathCollection at 0x1e3e02e7af0>"
      ]
     },
     "execution_count": 26,
     "metadata": {},
     "output_type": "execute_result"
    },
    {
     "data": {
      "image/png": "[encoded data removed]",
      "text/plain": [
       "<Figure size 432x288 with 1 Axes>"
      ]
     },
     "metadata": {
      "needs_background": "light"
     },
     "output_type": "display_data"
    }
   ],
   "source": [
    "plt.scatter([x for x in range(1960,1981,1)], lca)\n",
    "plt.scatter([x for x in range(1960,1981,1)],lus)"
   ]
  },
  {
   "cell_type": "markdown",
   "id": "1d6f7112-26e2-4f2f-b931-bfb979188959",
   "metadata": {},
   "source": []
  }
 ],
 "metadata": {
  "kernelspec": {
   "display_name": "Python 3 (ipykernel)",
   "language": "python",
   "name": "python3"
  },
  "language_info": {
   "codemirror_mode": {
    "name": "ipython",
    "version": 3
   },
   "file_extension": ".py",
   "mimetype": "text/x-python",
   "name": "python",
   "nbconvert_exporter": "python",
   "pygments_lexer": "ipython3",
   "version": "3.9.12"
  }
 },
 "nbformat": 4,
 "nbformat_minor": 5
}
