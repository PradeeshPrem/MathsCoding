{
 "cells": [
  {
   "cell_type": "markdown",
   "id": "7257521f-a41b-4d46-9593-7e5f56f5ccdb",
   "metadata": {},
   "source": [
    "## TASK: Estimate the probability that a \"random\" quadratic equation will have real roots, using a FOR loop and the RAND() function.\n",
    "\n",
    "COMMENT: A typical quadratic equation has the form:\n",
    "y=ax2+bx+c\n",
    "The roots of this equation can be written as\n",
    "\n",
    "r=−b±sqrt(b2−4ac)/2a\n",
    "\n",
    "and so the equation has real roots if, and only if\n",
    "\n",
    "        b^2 - 4ac = 0\n",
    "      \n",
    "Suppose each of the coefficients a, b, and c are choose using rand() function. Then sometimes, the resulting equation will have real roots and sometimes not.\n",
    "\n",
    "Use a FOR loop to run N cases. In each case, generate a, b and c using rand(), and then test whether the equation has real roots. Let M be the number of times the equation has real roots, and report the estimated probability as M/N.\n",
    "\n"
   ]
  },
  {
   "cell_type": "code",
   "execution_count": 18,
   "id": "47b2339c-c5d0-4fe0-a638-a03de321756a",
   "metadata": {},
   "outputs": [],
   "source": [
    "import numpy as np\n",
    "\n",
    "def prob(x =10):\n",
    "    m = 0\n",
    "    for _ in range(x):\n",
    "        # range of random intergers generated can be dicided below, greater the range lesser the probability\n",
    "        c = np.random.randint(1,5,3)\n",
    "        d = c[1]**2 - 4*c[0]*c[2]\n",
    "        if d == 0:\n",
    "            m+=1\n",
    "        print(\"CoEfficients a,b,c \", c,\" D : \", d)\n",
    "    print('Probability required :',m/x)\n",
    "    return\n",
    "        \n"
   ]
  },
  {
   "cell_type": "code",
   "execution_count": 20,
   "id": "f8c2fd9a-f69d-4350-8b67-a3001e9f5ad6",
   "metadata": {},
   "outputs": [
    {
     "name": "stdout",
     "output_type": "stream",
     "text": [
      "CoEfficients a,b,c  [1 2 4]  D :  -12\n",
      "CoEfficients a,b,c  [2 3 3]  D :  -15\n",
      "CoEfficients a,b,c  [3 1 3]  D :  -35\n",
      "CoEfficients a,b,c  [2 3 4]  D :  -23\n",
      "CoEfficients a,b,c  [4 4 1]  D :  0\n",
      "CoEfficients a,b,c  [1 3 2]  D :  1\n",
      "CoEfficients a,b,c  [2 4 4]  D :  -16\n",
      "CoEfficients a,b,c  [3 3 1]  D :  -3\n",
      "CoEfficients a,b,c  [1 2 1]  D :  0\n",
      "CoEfficients a,b,c  [2 3 3]  D :  -15\n",
      "Probability required : 0.2\n"
     ]
    }
   ],
   "source": [
    "prob()"
   ]
  },
  {
   "cell_type": "code",
   "execution_count": null,
   "id": "ba29488c-ee3e-42e6-8c45-20576720a6df",
   "metadata": {},
   "outputs": [],
   "source": []
  }
 ],
 "metadata": {
  "kernelspec": {
   "display_name": "Python 3 (ipykernel)",
   "language": "python",
   "name": "python3"
  },
  "language_info": {
   "codemirror_mode": {
    "name": "ipython",
    "version": 3
   },
   "file_extension": ".py",
   "mimetype": "text/x-python",
   "name": "python",
   "nbconvert_exporter": "python",
   "pygments_lexer": "ipython3",
   "version": "3.9.12"
  }
 },
 "nbformat": 4,
 "nbformat_minor": 5
}
