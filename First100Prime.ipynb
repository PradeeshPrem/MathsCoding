{
 "cells": [
  {
   "cell_type": "markdown",
   "id": "a7d2fa9b-fdf6-4bad-b225-6f33b6204e7e",
   "metadata": {},
   "source": [
    "## TASK: Print the first 100 prime numbers, using WHILE.\n",
    "\n",
    "Hint: If you are doing things correctly, the 10-th prime number should be 29."
   ]
  },
  {
   "cell_type": "code",
   "execution_count": 3,
   "id": "a5202437-2972-43bc-8e2b-c4728aa05124",
   "metadata": {},
   "outputs": [],
   "source": [
    "prm = [2]\n",
    "c = 3\n",
    "while len(prm) < 100:\n",
    "    if all(c%x!=0 for x in prm):\n",
    "        prm.append(c)\n",
    "    else:\n",
    "        c+=1\n",
    "        "
   ]
  },
  {
   "cell_type": "code",
   "execution_count": 6,
   "id": "789d4309-7ff2-47e3-9bda-7f1a18d44bdf",
   "metadata": {},
   "outputs": [
    {
     "data": {
      "text/plain": [
       "100"
      ]
     },
     "execution_count": 6,
     "metadata": {},
     "output_type": "execute_result"
    }
   ],
   "source": [
    "len(prm)"
   ]
  },
  {
   "cell_type": "code",
   "execution_count": 7,
   "id": "8505ad98-2aae-48a2-99f4-31f45b8a2f59",
   "metadata": {},
   "outputs": [
    {
     "data": {
      "text/plain": [
       "29"
      ]
     },
     "execution_count": 7,
     "metadata": {},
     "output_type": "execute_result"
    }
   ],
   "source": [
    "prm[9]"
   ]
  },
  {
   "cell_type": "code",
   "execution_count": 8,
   "id": "4fd978e2-3373-4ab8-b5b5-ae643cf1030b",
   "metadata": {},
   "outputs": [
    {
     "name": "stdout",
     "output_type": "stream",
     "text": [
      "[2, 3, 5, 7, 11, 13, 17, 19, 23, 29, 31, 37, 41, 43, 47, 53, 59, 61, 67, 71, 73, 79, 83, 89, 97, 101, 103, 107, 109, 113, 127, 131, 137, 139, 149, 151, 157, 163, 167, 173, 179, 181, 191, 193, 197, 199, 211, 223, 227, 229, 233, 239, 241, 251, 257, 263, 269, 271, 277, 281, 283, 293, 307, 311, 313, 317, 331, 337, 347, 349, 353, 359, 367, 373, 379, 383, 389, 397, 401, 409, 419, 421, 431, 433, 439, 443, 449, 457, 461, 463, 467, 479, 487, 491, 499, 503, 509, 521, 523, 541]"
     ]
    }
   ],
   "source": [
    "print(prm,end =\"\")"
   ]
  },
  {
   "cell_type": "code",
   "execution_count": null,
   "id": "947b3c9d-42c7-48fe-9df9-9159fdaf5fef",
   "metadata": {},
   "outputs": [],
   "source": []
  }
 ],
 "metadata": {
  "kernelspec": {
   "display_name": "Python 3 (ipykernel)",
   "language": "python",
   "name": "python3"
  },
  "language_info": {
   "codemirror_mode": {
    "name": "ipython",
    "version": 3
   },
   "file_extension": ".py",
   "mimetype": "text/x-python",
   "name": "python",
   "nbconvert_exporter": "python",
   "pygments_lexer": "ipython3",
   "version": "3.9.12"
  }
 },
 "nbformat": 4,
 "nbformat_minor": 5
}
