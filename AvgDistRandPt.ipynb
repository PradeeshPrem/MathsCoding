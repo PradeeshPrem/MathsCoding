{
 "cells": [
  {
   "cell_type": "markdown",
   "id": "831318bb-1f75-4267-b24c-b972695131a1",
   "metadata": {},
   "source": [
    "## TASK: Write a script which estimates the average distance between two random points in the unit square, using a FOR loop and the RAND() function.\n",
    "\n",
    "COMMENT: Given two points (X1,Y1) and (X2,Y2), their distance is found by squaring the distance in the X values, squaring the distance in the Y values, adding these two values and taking the square root.\n",
    "\n",
    "distance((x1,y1),(x2,y2))= $\\sqrt{(x_1-x_2)^2+(y_1-y_2)^2}$ \n",
    "\n",
    "Your task is to generate random values of (X1,Y1) and (X2,Y2), and compute the distance D. Do this N times, each time adding the value of D to a total DSUM. Once the computations are done, report the average value of D, which is DSUM/N."
   ]
  },
  {
   "cell_type": "code",
   "execution_count": 1,
   "id": "489df4dc-5b10-4323-905f-a5fa79821e64",
   "metadata": {},
   "outputs": [
    {
     "name": "stdin",
     "output_type": "stream",
     "text": [
      " 5\n"
     ]
    }
   ],
   "source": [
    "# Number of times the operation needs to be performed\n",
    "n = int(input())"
   ]
  },
  {
   "cell_type": "code",
   "execution_count": 2,
   "id": "11b790ed-0a67-4143-b3fc-21bc266bb868",
   "metadata": {},
   "outputs": [],
   "source": [
    "import numpy as np"
   ]
  },
  {
   "cell_type": "code",
   "execution_count": 30,
   "id": "88d4b584-7dd1-454c-98a1-9efe18233791",
   "metadata": {},
   "outputs": [],
   "source": [
    "def genPoints(x = 5):\n",
    "    dsum = 0\n",
    "    for _ in range(x):\n",
    "        \n",
    "        p1 = np.random.rand(2)*100\n",
    "        p2 = np.random.rand(2)*100\n",
    "        print('Point1 and Point2 : ',p1, p2)\n",
    "        D = np.sqrt(sum((p1-p2)**2))\n",
    "        dsum+=D\n",
    "        print('Dist',D,'\\n')\n",
    "    print('AvgDist',dsum/x)\n",
    "        \n",
    "    return \n",
    "    "
   ]
  },
  {
   "cell_type": "code",
   "execution_count": 31,
   "id": "bb9f059c-6964-41f4-80c6-4471e7afaf3b",
   "metadata": {},
   "outputs": [
    {
     "name": "stdout",
     "output_type": "stream",
     "text": [
      "Point1 and Point2 :  [89.0080592  17.39018406] [69.22903253 38.31954373]\n",
      "Dist 28.796666336302533 \n",
      "\n",
      "Point1 and Point2 :  [90.81534127 80.74437528] [45.15257534 50.61084556]\n",
      "Dist 54.70939412738853 \n",
      "\n",
      "Point1 and Point2 :  [40.58409044 16.68582009] [39.2090311  94.19003322]\n",
      "Dist 77.51641013702226 \n",
      "\n",
      "Point1 and Point2 :  [69.04611284 61.55803723] [63.84999894 79.47132753]\n",
      "Dist 18.651690787805553 \n",
      "\n",
      "Point1 and Point2 :  [27.16760322  8.09528156] [91.66310745 87.84388512]\n",
      "Dist 102.56466173412771 \n",
      "\n",
      "Point1 and Point2 :  [76.3800346  46.91909619] [48.79114116 58.08292903]\n",
      "Dist 29.762026223027828 \n",
      "\n",
      "Point1 and Point2 :  [ 4.74296068 36.39784204] [22.36054419 58.05222247]\n",
      "Dist 27.91579195763205 \n",
      "\n",
      "Point1 and Point2 :  [18.40387766 10.55088013] [50.50002177 34.66090938]\n",
      "Dist 40.14294429951449 \n",
      "\n",
      "AvgDist 47.50744820035262\n"
     ]
    }
   ],
   "source": [
    "genPoints(8)"
   ]
  },
  {
   "cell_type": "code",
   "execution_count": null,
   "id": "0c677300-6052-4db5-9833-02197fad583c",
   "metadata": {},
   "outputs": [],
   "source": []
  }
 ],
 "metadata": {
  "kernelspec": {
   "display_name": "Python 3 (ipykernel)",
   "language": "python",
   "name": "python3"
  },
  "language_info": {
   "codemirror_mode": {
    "name": "ipython",
    "version": 3
   },
   "file_extension": ".py",
   "mimetype": "text/x-python",
   "name": "python",
   "nbconvert_exporter": "python",
   "pygments_lexer": "ipython3",
   "version": "3.9.12"
  }
 },
 "nbformat": 4,
 "nbformat_minor": 5
}
