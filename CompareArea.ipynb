{
 "cells": [
  {
   "cell_type": "markdown",
   "id": "39815173-5ce6-437b-9082-3b7d214ab415",
   "metadata": {},
   "source": [
    "## TASK: Write a script that compares the area of three circles to a square.\n",
    "\n",
    "COMMENTS: The square has a \"radius\" of 1, so an area of 4 square units. The area of a circle of radius r is pi*r^2. We have three circles, of radius 1.05, 1.10, and 1.15 units. We want to know which circle's area is closest to the area of the square.\n",
    "\n"
   ]
  },
  {
   "cell_type": "code",
   "execution_count": 3,
   "id": "33f6ef36-9d9a-4d54-aba5-f9b8d763c5db",
   "metadata": {},
   "outputs": [],
   "source": [
    "import numpy as np"
   ]
  },
  {
   "cell_type": "code",
   "execution_count": 4,
   "id": "587fc607-2d6d-426e-8f82-81b765d47793",
   "metadata": {},
   "outputs": [],
   "source": [
    "def circleArea(r):\n",
    "    return 3.14*r**2"
   ]
  },
  {
   "cell_type": "code",
   "execution_count": 25,
   "id": "b65fdaa5-56ec-4f17-a1e5-ed8a01e7dc0d",
   "metadata": {},
   "outputs": [
    {
     "name": "stdout",
     "output_type": "stream",
     "text": [
      "[1.05 1.1  1.15]\n"
     ]
    }
   ],
   "source": [
    "r1 = 1.05\n",
    "r2 = 1.10\n",
    "r3 = 1.15\n",
    "r = np.array([r1,r2,r3])\n",
    "print(r)"
   ]
  },
  {
   "cell_type": "code",
   "execution_count": 37,
   "id": "235897cf-d131-454c-91bf-c29a68762541",
   "metadata": {},
   "outputs": [],
   "source": [
    "#comparing the areas for closeness\n",
    "area = np.array([circleArea(x) for x in r])"
   ]
  },
  {
   "cell_type": "code",
   "execution_count": 39,
   "id": "38be53f2-0aee-4b64-8b10-843350148fad",
   "metadata": {},
   "outputs": [],
   "source": [
    "areaSq = 4\n",
    "error = np.array(abs(area - areaSq))"
   ]
  },
  {
   "cell_type": "code",
   "execution_count": 41,
   "id": "74e239b5-8b01-47e3-8a58-245090ed740f",
   "metadata": {},
   "outputs": [
    {
     "data": {
      "text/plain": [
       "array([0.53815, 0.2006 , 0.15265])"
      ]
     },
     "execution_count": 41,
     "metadata": {},
     "output_type": "execute_result"
    }
   ],
   "source": [
    "error"
   ]
  },
  {
   "cell_type": "code",
   "execution_count": 44,
   "id": "dcbadd9e-d259-468c-aa63-c704c256b0a8",
   "metadata": {},
   "outputs": [
    {
     "name": "stdout",
     "output_type": "stream",
     "text": [
      "Circle with closest area to the square is : 3\n"
     ]
    }
   ],
   "source": [
    "print('Circle with closest area to the square is : ' + str(error.argmin()+1))"
   ]
  },
  {
   "cell_type": "code",
   "execution_count": null,
   "id": "dbae39d0-297d-4d28-8ccc-4a63933bdd81",
   "metadata": {},
   "outputs": [],
   "source": []
  }
 ],
 "metadata": {
  "kernelspec": {
   "display_name": "Python 3 (ipykernel)",
   "language": "python",
   "name": "python3"
  },
  "language_info": {
   "codemirror_mode": {
    "name": "ipython",
    "version": 3
   },
   "file_extension": ".py",
   "mimetype": "text/x-python",
   "name": "python",
   "nbconvert_exporter": "python",
   "pygments_lexer": "ipython3",
   "version": "3.9.12"
  }
 },
 "nbformat": 4,
 "nbformat_minor": 5
}
