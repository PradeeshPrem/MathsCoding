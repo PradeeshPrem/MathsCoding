{
 "cells": [
  {
   "cell_type": "markdown",
   "id": "207a4e6f-8f7c-4c73-a27f-bea7f78297e5",
   "metadata": {},
   "source": [
    "## TASK: Evaluate a formula.\n",
    "\n",
    "COMMENT: Consider the following function:\n",
    "\n",
    "$$ y = \\frac{1}{(x-0.3)^2+0.01}+\\frac{1}{(x-0.9)^2+0.04}- 6 $$\n"
   ]
  },
  {
   "cell_type": "code",
   "execution_count": 3,
   "id": "c396ea20-b351-41ef-a7ff-403f3d018b0d",
   "metadata": {},
   "outputs": [],
   "source": [
    "def eval(x):\n",
    "    return 1/((x-0.3)**2+0.01) + 1/((x-0.9)**2+0.04) - 6"
   ]
  },
  {
   "cell_type": "code",
   "execution_count": 4,
   "id": "71e39f01-6f18-4ec5-8d66-fd3e541b6ce9",
   "metadata": {},
   "outputs": [
    {
     "name": "stdout",
     "output_type": "stream",
     "text": [
      "-4.855172413793103\n"
     ]
    }
   ],
   "source": [
    "print(eval(2))"
   ]
  },
  {
   "cell_type": "code",
   "execution_count": null,
   "id": "4e56f6c6-c6f7-49e9-9527-9d23d8a03df7",
   "metadata": {},
   "outputs": [],
   "source": []
  }
 ],
 "metadata": {
  "kernelspec": {
   "display_name": "Python 3 (ipykernel)",
   "language": "python",
   "name": "python3"
  },
  "language_info": {
   "codemirror_mode": {
    "name": "ipython",
    "version": 3
   },
   "file_extension": ".py",
   "mimetype": "text/x-python",
   "name": "python",
   "nbconvert_exporter": "python",
   "pygments_lexer": "ipython3",
   "version": "3.9.12"
  }
 },
 "nbformat": 4,
 "nbformat_minor": 5
}
