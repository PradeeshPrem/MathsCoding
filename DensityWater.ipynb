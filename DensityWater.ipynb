{
 "cells": [
  {
   "cell_type": "markdown",
   "id": "13df11ac-fc8d-466b-967d-b6f436a5d1e5",
   "metadata": {},
   "source": [
    "## TASK: Write a script that evaluates a formula for the density of water.\n",
    "\n",
    "COMMENT: A formula for rho, the density of water in grams/cm^3, at a temperature t in degrees Celsius, is:\n",
    "\n",
    "rho(t) = 0.99985308 + 6.32693 * 10^-5 * t - 8.523829 * 10^-6 * t^2 + 6.943248 * 10^-8 * t^3 - 3.821216 * 10^-10 * t^4\n",
    "Evaluate this formula for temperatures t = 0, 4, 10, 20, and 40 degrees."
   ]
  },
  {
   "cell_type": "code",
   "execution_count": 1,
   "id": "ce98d113-25fc-4318-82b5-dadda2b7912d",
   "metadata": {},
   "outputs": [],
   "source": [
    "import numpy as np"
   ]
  },
  {
   "cell_type": "code",
   "execution_count": 2,
   "id": "70a71c67-f7c0-454a-ab2a-00d74f6ccff1",
   "metadata": {},
   "outputs": [],
   "source": [
    "def rho(t):\n",
    "    return 0.99985308 + 6.32693 * 10**-5 * t - 8.523829 * 10**-6 * t**2 + 6.943248 * 10**-8 * t**3 - 3.821216 * 10**-10 * t**4"
   ]
  },
  {
   "cell_type": "code",
   "execution_count": 4,
   "id": "62418ce7-c090-43ac-be21-0b6204157942",
   "metadata": {},
   "outputs": [],
   "source": [
    "# Temperatures to evaluate in degree C\n",
    "t = [0,4,10,20,40]"
   ]
  },
  {
   "cell_type": "code",
   "execution_count": 5,
   "id": "d5611a40-2ae6-4678-b9ce-47a8f635df74",
   "metadata": {},
   "outputs": [],
   "source": [
    "RhoEval = [rho(x) for x in t]"
   ]
  },
  {
   "cell_type": "code",
   "execution_count": 6,
   "id": "4eda6a98-cbf2-474e-bedb-566c85354f5b",
   "metadata": {},
   "outputs": [
    {
     "name": "stdout",
     "output_type": "stream",
     "text": [
      "[0.99985308, 0.9999741217915903, 0.9996990013639999, 0.998203254784, 0.9922111730239999]\n"
     ]
    }
   ],
   "source": [
    "print(RhoEval)"
   ]
  },
  {
   "cell_type": "code",
   "execution_count": null,
   "id": "ad3fdeb6-530f-403e-9e45-400741de296e",
   "metadata": {},
   "outputs": [],
   "source": []
  }
 ],
 "metadata": {
  "kernelspec": {
   "display_name": "Python 3 (ipykernel)",
   "language": "python",
   "name": "python3"
  },
  "language_info": {
   "codemirror_mode": {
    "name": "ipython",
    "version": 3
   },
   "file_extension": ".py",
   "mimetype": "text/x-python",
   "name": "python",
   "nbconvert_exporter": "python",
   "pygments_lexer": "ipython3",
   "version": "3.9.12"
  }
 },
 "nbformat": 4,
 "nbformat_minor": 5
}
