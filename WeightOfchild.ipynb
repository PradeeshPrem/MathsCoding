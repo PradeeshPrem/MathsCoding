{
 "cells": [
  {
   "cell_type": "markdown",
   "id": "5a4e1584-896d-4e7e-84df-a511716bf428",
   "metadata": {},
   "source": [
    "## TASK: Evaluate a formula estimating the weight of children.\n",
    "\n",
    "COMMENT: The Theron formula estimates KG, the weight in kilograms of a child of age N years, as\n",
    "\n",
    "        kg = e^( 0.175571 * n + 2.197099 )\n",
    "      \n",
    "We would like to compute this quantity, and convert it to pounds."
   ]
  },
  {
   "cell_type": "code",
   "execution_count": 1,
   "id": "cd9e39f4-ad92-44b7-8e85-b5c2b577c490",
   "metadata": {},
   "outputs": [],
   "source": [
    "import numpy as np"
   ]
  },
  {
   "cell_type": "code",
   "execution_count": 4,
   "id": "46307265-77ba-4a3a-b525-4d4702ae0ed2",
   "metadata": {},
   "outputs": [],
   "source": [
    "def kg(n):\n",
    "    return np.exp(0.175571 * n + 2.197099)"
   ]
  },
  {
   "cell_type": "code",
   "execution_count": 6,
   "id": "b48b1892-a82d-482b-929d-17a344694b03",
   "metadata": {},
   "outputs": [
    {
     "name": "stdout",
     "output_type": "stream",
     "text": [
      "Weight in KGs :  21.648886039849348\n",
      "Weight in pounds :  47.72756714117266\n"
     ]
    }
   ],
   "source": [
    "age  = 5\n",
    "print('Weight in KGs : ', kg(age))\n",
    "print('Weight in pounds : ', 2.20462* kg(age))"
   ]
  },
  {
   "cell_type": "code",
   "execution_count": null,
   "id": "457f0e9c-13f8-4090-a764-8d6c2d2f78c3",
   "metadata": {},
   "outputs": [],
   "source": []
  }
 ],
 "metadata": {
  "kernelspec": {
   "display_name": "Python 3 (ipykernel)",
   "language": "python",
   "name": "python3"
  },
  "language_info": {
   "codemirror_mode": {
    "name": "ipython",
    "version": 3
   },
   "file_extension": ".py",
   "mimetype": "text/x-python",
   "name": "python",
   "nbconvert_exporter": "python",
   "pygments_lexer": "ipython3",
   "version": "3.9.12"
  }
 },
 "nbformat": 4,
 "nbformat_minor": 5
}
