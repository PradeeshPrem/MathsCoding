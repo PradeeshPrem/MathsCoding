{
 "cells": [
  {
   "cell_type": "markdown",
   "id": "9a362852-c4f5-4b80-8f58-d30d691a6169",
   "metadata": {},
   "source": [
    "## Write a script that estimates the square root of 2017 using averaging.\n",
    "\n",
    "One way to approximate the square root of a number x starts with any positive guess \"r\" and then repeatedly replaces r by a new estimate:\n",
    "\n",
    "        r = ( r + x/r) / 2"
   ]
  },
  {
   "cell_type": "code",
   "execution_count": 25,
   "id": "f8ef7043-916e-4797-ad6a-5551a292eba0",
   "metadata": {},
   "outputs": [],
   "source": [
    "import numpy as np"
   ]
  },
  {
   "cell_type": "code",
   "execution_count": 30,
   "id": "6a7776c5-841f-466c-b70a-f068c8ad3bec",
   "metadata": {},
   "outputs": [],
   "source": [
    "x= 2017\n",
    "s = np.sqrt(x)\n",
    "r = np.random.randint(100)"
   ]
  },
  {
   "cell_type": "code",
   "execution_count": 31,
   "id": "2044f67e-2f37-4b03-a447-aa18ddf5a466",
   "metadata": {},
   "outputs": [
    {
     "name": "stdout",
     "output_type": "stream",
     "text": [
      "44.91102314577124\n",
      "11.911023145771239\n"
     ]
    }
   ],
   "source": [
    "print(s)\n",
    "print(abs(s-r))"
   ]
  },
  {
   "cell_type": "code",
   "execution_count": 32,
   "id": "e1a6b634-9104-4f98-9a82-988911f666c1",
   "metadata": {},
   "outputs": [],
   "source": [
    "def avgsqrt(r,x):\n",
    "    return (r+x/r)/2"
   ]
  },
  {
   "cell_type": "code",
   "execution_count": 33,
   "id": "0791be44-1f67-4cdd-8229-75f4bb8dc2c5",
   "metadata": {},
   "outputs": [
    {
     "name": "stdout",
     "output_type": "stream",
     "text": [
      "2.1495829148348236\n",
      "0.04909314918086238\n",
      "2.6803058972291183e-05\n",
      "8.000711204658728e-12\n",
      "0.0\n",
      "0.0\n"
     ]
    }
   ],
   "source": [
    "for _ in range(6):\n",
    "    r = avgsqrt(r,x)\n",
    "    print(abs(s-r))"
   ]
  },
  {
   "cell_type": "code",
   "execution_count": null,
   "id": "7c723810-c8e9-43a5-ad79-ea0e2288300b",
   "metadata": {},
   "outputs": [],
   "source": []
  },
  {
   "cell_type": "code",
   "execution_count": null,
   "id": "968f4452-4d2e-461b-8e59-84123c994f0a",
   "metadata": {},
   "outputs": [],
   "source": []
  }
 ],
 "metadata": {
  "kernelspec": {
   "display_name": "Python 3 (ipykernel)",
   "language": "python",
   "name": "python3"
  },
  "language_info": {
   "codemirror_mode": {
    "name": "ipython",
    "version": 3
   },
   "file_extension": ".py",
   "mimetype": "text/x-python",
   "name": "python",
   "nbconvert_exporter": "python",
   "pygments_lexer": "ipython3",
   "version": "3.9.12"
  }
 },
 "nbformat": 4,
 "nbformat_minor": 5
}
